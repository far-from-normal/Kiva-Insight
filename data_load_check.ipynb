{
 "cells": [
  {
   "cell_type": "code",
   "execution_count": 1,
   "metadata": {},
   "outputs": [],
   "source": [
    "import pandas as pd\n",
    "import numpy as np\n",
    "from collections import Counter"
   ]
  },
  {
   "cell_type": "code",
   "execution_count": 2,
   "metadata": {},
   "outputs": [
    {
     "data": {
      "text/html": [
       "<div>\n",
       "<style scoped>\n",
       "    .dataframe tbody tr th:only-of-type {\n",
       "        vertical-align: middle;\n",
       "    }\n",
       "\n",
       "    .dataframe tbody tr th {\n",
       "        vertical-align: top;\n",
       "    }\n",
       "\n",
       "    .dataframe thead th {\n",
       "        text-align: right;\n",
       "    }\n",
       "</style>\n",
       "<table border=\"1\" class=\"dataframe\">\n",
       "  <thead>\n",
       "    <tr style=\"text-align: right;\">\n",
       "      <th></th>\n",
       "      <th>STATUS</th>\n",
       "      <th>DESCRIPTION_TRANSLATED</th>\n",
       "      <th>LOAN_USE</th>\n",
       "      <th>TAGS</th>\n",
       "      <th>REPAYMENT_INTERVAL</th>\n",
       "    </tr>\n",
       "  </thead>\n",
       "  <tbody>\n",
       "    <tr>\n",
       "      <th>0</th>\n",
       "      <td>funded</td>\n",
       "      <td>NaN</td>\n",
       "      <td>to buy additional inventories for her sari-sa...</td>\n",
       "      <td>NaN</td>\n",
       "      <td>irregular</td>\n",
       "    </tr>\n",
       "    <tr>\n",
       "      <th>1</th>\n",
       "      <td>funded</td>\n",
       "      <td>Idalia, 57, is married and lives with her husb...</td>\n",
       "      <td>To buy American clothing such as blouses, shir...</td>\n",
       "      <td>NaN</td>\n",
       "      <td>monthly</td>\n",
       "    </tr>\n",
       "    <tr>\n",
       "      <th>2</th>\n",
       "      <td>funded</td>\n",
       "      <td>NaN</td>\n",
       "      <td>to buy stock of rice, sugar and flour</td>\n",
       "      <td>#Woman Owned Biz, #Supporting Family, user_fav...</td>\n",
       "      <td>monthly</td>\n",
       "    </tr>\n",
       "    <tr>\n",
       "      <th>3</th>\n",
       "      <td>funded</td>\n",
       "      <td>Gulmira is 36 years old and married.  She and ...</td>\n",
       "      <td>to buy cucumber and tomato seeds, as well as f...</td>\n",
       "      <td>user_favorite</td>\n",
       "      <td>monthly</td>\n",
       "    </tr>\n",
       "    <tr>\n",
       "      <th>4</th>\n",
       "      <td>funded</td>\n",
       "      <td>NaN</td>\n",
       "      <td>to buy organic fertilizer and agrochemical pr...</td>\n",
       "      <td>#Animals, #Eco-friendly, #Sustainable Ag</td>\n",
       "      <td>bullet</td>\n",
       "    </tr>\n",
       "  </tbody>\n",
       "</table>\n",
       "</div>"
      ],
      "text/plain": [
       "   STATUS                             DESCRIPTION_TRANSLATED  \\\n",
       "0  funded                                                NaN   \n",
       "1  funded  Idalia, 57, is married and lives with her husb...   \n",
       "2  funded                                                NaN   \n",
       "3  funded  Gulmira is 36 years old and married.  She and ...   \n",
       "4  funded                                                NaN   \n",
       "\n",
       "                                            LOAN_USE  \\\n",
       "0   to buy additional inventories for her sari-sa...   \n",
       "1  To buy American clothing such as blouses, shir...   \n",
       "2              to buy stock of rice, sugar and flour   \n",
       "3  to buy cucumber and tomato seeds, as well as f...   \n",
       "4   to buy organic fertilizer and agrochemical pr...   \n",
       "\n",
       "                                                TAGS REPAYMENT_INTERVAL  \n",
       "0                                                NaN          irregular  \n",
       "1                                                NaN            monthly  \n",
       "2  #Woman Owned Biz, #Supporting Family, user_fav...            monthly  \n",
       "3                                      user_favorite            monthly  \n",
       "4           #Animals, #Eco-friendly, #Sustainable Ag             bullet  "
      ]
     },
     "execution_count": 2,
     "metadata": {},
     "output_type": "execute_result"
    }
   ],
   "source": [
    "df = pd.read_csv('loans.csv', nrows=200000)\n",
    "df_keep_cols = df[['STATUS', 'DESCRIPTION_TRANSLATED', 'LOAN_USE', 'TAGS', 'REPAYMENT_INTERVAL']]\n",
    "\n",
    "df_keep_cols.head()"
   ]
  },
  {
   "cell_type": "code",
   "execution_count": null,
   "metadata": {},
   "outputs": [],
   "source": [
    "%matplotlib inline\n",
    "import seaborn as sns\n",
    "sns.set(style=\"darkgrid\")\n",
    "sns.countplot(x='DESCRIPTION_TRANSLATED', data=df)\n",
    "#df.hist(column='DESCRIPTION_TRANSLATED');"
   ]
  },
  {
   "cell_type": "code",
   "execution_count": null,
   "metadata": {},
   "outputs": [],
   "source": [
    "funded_status = df['STATUS'].values\n",
    "funded_status_unique = np.unique(funded_status)\n",
    "print(funded_status_unique)\n",
    "\n",
    "funded_status_c = Counter(funded_status.tolist())\n",
    "\n",
    "print(Counter(funded_status_c).keys()) # equals to list(set(words))\n",
    "print(Counter(funded_status_c).values()) # counts the elements' frequency\n",
    "\n",
    "cols = list(df)\n",
    "for col in cols:\n",
    "\tprint(col)\n",
    "\n",
    "desc_trans = df['DESCRIPTION_TRANSLATED'].values\n",
    "\n",
    "#print(df.isna().sum()['DESCRIPTION_TRANSLATED'])\n",
    "\n",
    "\n",
    "\n",
    "#for d_t, fs in zip(desc_trans[:200], funded_status[:200]):\n",
    "#\tprint(fs, d_t)"
   ]
  }
 ],
 "metadata": {
  "kernelspec": {
   "display_name": "Python [conda env:insight]",
   "language": "python",
   "name": "conda-env-insight-py"
  },
  "language_info": {
   "codemirror_mode": {
    "name": "ipython",
    "version": 3
   },
   "file_extension": ".py",
   "mimetype": "text/x-python",
   "name": "python",
   "nbconvert_exporter": "python",
   "pygments_lexer": "ipython3",
   "version": "3.6.6"
  }
 },
 "nbformat": 4,
 "nbformat_minor": 2
}
